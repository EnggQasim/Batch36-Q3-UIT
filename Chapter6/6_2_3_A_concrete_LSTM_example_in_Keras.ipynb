{
  "nbformat": 4,
  "nbformat_minor": 0,
  "metadata": {
    "colab": {
      "name": "6.2.3 A concrete LSTM example in Keras.ipynb",
      "provenance": []
    },
    "kernelspec": {
      "name": "python3",
      "display_name": "Python 3"
    }
  },
  "cells": [
    {
      "cell_type": "markdown",
      "metadata": {
        "id": "ZFb7hhHoPheg"
      },
      "source": [
        "\n",
        "# 6.2.3 A concrete LSTM example in Keras"
      ]
    },
    {
      "cell_type": "markdown",
      "metadata": {
        "id": "27ImYCaNPyVJ"
      },
      "source": [
        "### Listing 6.27 Using the LSTM layer in Keras"
      ]
    },
    {
      "cell_type": "code",
      "metadata": {
        "id": "S4fzcJjjPjwn"
      },
      "source": [
        "# he following example returns the full state sequence:\n",
        "from tensorflow.keras.models import Sequential\n",
        "from tensorflow.keras.layers import Embedding, SimpleRNN"
      ],
      "execution_count": null,
      "outputs": []
    },
    {
      "cell_type": "code",
      "metadata": {
        "colab": {
          "base_uri": "https://localhost:8080/"
        },
        "id": "lj8oOX73PzZf",
        "outputId": "c3a1a2ef-cc61-42d5-cb8a-95c23edaa072"
      },
      "source": [
        "from keras.datasets import imdb\n",
        "from keras.preprocessing import sequence\n",
        "max_features = 10000\n",
        "maxlen = 500\n",
        "batch_size = 32\n",
        "print('Loading data...')\n",
        "(input_train, y_train), (input_test, y_test) = imdb.load_data(\n",
        "    num_words=max_features)\n",
        "\n",
        "print(len(input_train), 'train sequences')\n",
        "print(len(input_test), 'test sequences')\n",
        "print('Pad sequences (samples x time)')\n",
        "input_train = sequence.pad_sequences(input_train, maxlen=maxlen)\n",
        "input_test = sequence.pad_sequences(input_test, maxlen=maxlen)\n",
        "print('input_train shape:', input_train.shape)\n",
        "print('input_test shape:', input_test.shape)"
      ],
      "execution_count": null,
      "outputs": [
        {
          "output_type": "stream",
          "text": [
            "Loading data...\n",
            "Downloading data from https://storage.googleapis.com/tensorflow/tf-keras-datasets/imdb.npz\n",
            "17465344/17464789 [==============================] - 0s 0us/step\n"
          ],
          "name": "stdout"
        },
        {
          "output_type": "stream",
          "text": [
            "<string>:6: VisibleDeprecationWarning: Creating an ndarray from ragged nested sequences (which is a list-or-tuple of lists-or-tuples-or ndarrays with different lengths or shapes) is deprecated. If you meant to do this, you must specify 'dtype=object' when creating the ndarray\n",
            "/usr/local/lib/python3.7/dist-packages/tensorflow/python/keras/datasets/imdb.py:159: VisibleDeprecationWarning: Creating an ndarray from ragged nested sequences (which is a list-or-tuple of lists-or-tuples-or ndarrays with different lengths or shapes) is deprecated. If you meant to do this, you must specify 'dtype=object' when creating the ndarray\n",
            "  x_train, y_train = np.array(xs[:idx]), np.array(labels[:idx])\n",
            "/usr/local/lib/python3.7/dist-packages/tensorflow/python/keras/datasets/imdb.py:160: VisibleDeprecationWarning: Creating an ndarray from ragged nested sequences (which is a list-or-tuple of lists-or-tuples-or ndarrays with different lengths or shapes) is deprecated. If you meant to do this, you must specify 'dtype=object' when creating the ndarray\n",
            "  x_test, y_test = np.array(xs[idx:]), np.array(labels[idx:])\n"
          ],
          "name": "stderr"
        },
        {
          "output_type": "stream",
          "text": [
            "25000 train sequences\n",
            "25000 test sequences\n",
            "Pad sequences (samples x time)\n",
            "input_train shape: (25000, 500)\n",
            "input_test shape: (25000, 500)\n"
          ],
          "name": "stdout"
        }
      ]
    },
    {
      "cell_type": "code",
      "metadata": {
        "colab": {
          "base_uri": "https://localhost:8080/"
        },
        "id": "pZD9fWQ6QHMS",
        "outputId": "92406039-a713-4604-f5b1-0ee85a37813a"
      },
      "source": [
        "from keras.layers import LSTM, Dense\n",
        "model = Sequential()\n",
        "model.add(Embedding(max_features, 32))\n",
        "model.add(LSTM(32))\n",
        "model.add(Dense(1, activation='sigmoid'))\n",
        "model.compile(optimizer='rmsprop',\n",
        "              loss='binary_crossentropy',\n",
        "              metrics=['acc'])\n",
        "history = model.fit(input_train, y_train,\n",
        "                    epochs=10,\n",
        "                    batch_size=128,\n",
        "                    validation_split=0.2)"
      ],
      "execution_count": null,
      "outputs": [
        {
          "output_type": "stream",
          "text": [
            "Epoch 1/10\n",
            "157/157 [==============================] - 53s 324ms/step - loss: 0.6160 - acc: 0.6519 - val_loss: 0.3847 - val_acc: 0.8404\n",
            "Epoch 2/10\n",
            "157/157 [==============================] - 55s 349ms/step - loss: 0.3173 - acc: 0.8719 - val_loss: 0.4907 - val_acc: 0.8300\n",
            "Epoch 3/10\n",
            "157/157 [==============================] - 60s 382ms/step - loss: 0.2494 - acc: 0.9072 - val_loss: 0.3115 - val_acc: 0.8822\n",
            "Epoch 4/10\n",
            "157/157 [==============================] - 54s 341ms/step - loss: 0.1972 - acc: 0.9265 - val_loss: 0.3074 - val_acc: 0.8774\n",
            "Epoch 5/10\n",
            "157/157 [==============================] - 57s 366ms/step - loss: 0.1803 - acc: 0.9355 - val_loss: 0.2897 - val_acc: 0.8830\n",
            "Epoch 6/10\n",
            "157/157 [==============================] - 57s 366ms/step - loss: 0.1632 - acc: 0.9445 - val_loss: 0.4224 - val_acc: 0.8292\n",
            "Epoch 7/10\n",
            "157/157 [==============================] - 58s 372ms/step - loss: 0.1435 - acc: 0.9507 - val_loss: 0.3201 - val_acc: 0.8888\n",
            "Epoch 8/10\n",
            "157/157 [==============================] - 58s 371ms/step - loss: 0.1217 - acc: 0.9592 - val_loss: 0.5561 - val_acc: 0.8162\n",
            "Epoch 9/10\n",
            "157/157 [==============================] - 58s 370ms/step - loss: 0.1298 - acc: 0.9567 - val_loss: 0.3235 - val_acc: 0.8778\n",
            "Epoch 10/10\n",
            "157/157 [==============================] - 58s 369ms/step - loss: 0.1081 - acc: 0.9636 - val_loss: 0.4131 - val_acc: 0.8772\n"
          ],
          "name": "stdout"
        }
      ]
    },
    {
      "cell_type": "code",
      "metadata": {
        "id": "eNMsWv4OQNfS"
      },
      "source": [
        ""
      ],
      "execution_count": null,
      "outputs": []
    }
  ]
}